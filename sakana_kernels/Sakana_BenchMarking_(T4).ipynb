{
  "cells": [
    {
      "cell_type": "code",
      "execution_count": null,
      "metadata": {
        "colab": {
          "base_uri": "https://localhost:8080/"
        },
        "id": "468fc3ApFEq5",
        "outputId": "d47d95bd-b1da-49a2-8719-2c638ebfb9c2"
      },
      "outputs": [
        {
          "name": "stdout",
          "output_type": "stream",
          "text": [
            "Collecting ninja\n",
            "  Downloading ninja-1.11.1.3-py3-none-manylinux_2_12_x86_64.manylinux2010_x86_64.whl.metadata (5.3 kB)\n",
            "Downloading ninja-1.11.1.3-py3-none-manylinux_2_12_x86_64.manylinux2010_x86_64.whl (422 kB)\n",
            "\u001b[?25l   \u001b[90m━━━━━━━━━━━━━━━━━━━━━━━━━━━━━━━━━━━━━━━━\u001b[0m \u001b[32m0.0/422.9 kB\u001b[0m \u001b[31m?\u001b[0m eta \u001b[36m-:--:--\u001b[0m\r\u001b[2K   \u001b[90m━━━━━━━━━━━━━━━━━━━━━━━━━━━━━━━━━━━━━━━━\u001b[0m \u001b[32m422.9/422.9 kB\u001b[0m \u001b[31m24.8 MB/s\u001b[0m eta \u001b[36m0:00:00\u001b[0m\n",
            "\u001b[?25hInstalling collected packages: ninja\n",
            "Successfully installed ninja-1.11.1.3\n"
          ]
        }
      ],
      "source": [
        "!pip install ninja"
      ]
    },
    {
      "cell_type": "code",
      "execution_count": null,
      "metadata": {
        "colab": {
          "base_uri": "https://localhost:8080/"
        },
        "id": "2pW3WoZ3ILrf",
        "outputId": "00584f1a-16ba-48d2-b47b-044b97f7f431"
      },
      "outputs": [
        {
          "name": "stdout",
          "output_type": "stream",
          "text": [
            "Thu Feb 20 07:19:20 2025       \n",
            "+-----------------------------------------------------------------------------------------+\n",
            "| NVIDIA-SMI 550.54.15              Driver Version: 550.54.15      CUDA Version: 12.4     |\n",
            "|-----------------------------------------+------------------------+----------------------+\n",
            "| GPU  Name                 Persistence-M | Bus-Id          Disp.A | Volatile Uncorr. ECC |\n",
            "| Fan  Temp   Perf          Pwr:Usage/Cap |           Memory-Usage | GPU-Util  Compute M. |\n",
            "|                                         |                        |               MIG M. |\n",
            "|=========================================+========================+======================|\n",
            "|   0  Tesla T4                       Off |   00000000:00:04.0 Off |                    0 |\n",
            "| N/A   42C    P8              9W /   70W |       0MiB /  15360MiB |      0%      Default |\n",
            "|                                         |                        |                  N/A |\n",
            "+-----------------------------------------+------------------------+----------------------+\n",
            "                                                                                         \n",
            "+-----------------------------------------------------------------------------------------+\n",
            "| Processes:                                                                              |\n",
            "|  GPU   GI   CI        PID   Type   Process name                              GPU Memory |\n",
            "|        ID   ID                                                               Usage      |\n",
            "|=========================================================================================|\n",
            "|  No running processes found                                                             |\n",
            "+-----------------------------------------------------------------------------------------+\n"
          ]
        }
      ],
      "source": [
        "!nvidia-smi"
      ]
    },
    {
      "cell_type": "code",
      "execution_count": null,
      "metadata": {
        "id": "MRsLNgskM9T7"
      },
      "outputs": [],
      "source": [
        "cu_code = '''\n",
        "# include <torch/extension.h>\n",
        "# include <cuda.h>\n",
        "# include <cuda_runtime.h>\n",
        "\n",
        "__global__ void triangular_mm_kernel(const float* __restrict__ A,\n",
        "                                      const float* __restrict__ B,\n",
        "                                      float* __restrict__ C, const int N) {\n",
        "  // Use 2D block configuration for better occupancy\n",
        "  const int row = blockIdx.y * blockDim.y + threadIdx.y;\n",
        "  const int col = blockIdx.x * blockDim.x + threadIdx.x;\n",
        "\n",
        "  if (row < N && col < N) {\n",
        "    if (col <= row) {\n",
        "      // Lower triangle computation\n",
        "      float sum = 0.0f;\n",
        "      // Process elements in chunks to improve cache utilization\n",
        "# pragma unroll 8\n",
        "      for (int k = col; k <= row; k++) {\n",
        "        sum += A[row * N + k] * B[k * N + col];\n",
        "      }\n",
        "      C[row * N + col] = sum;\n",
        "    } else {\n",
        "      // Upper triangle (set to zero)\n",
        "      C[row * N + col] = 0.0f;\n",
        "    }\n",
        "  }\n",
        "}\n",
        "\n",
        "at::Tensor forward(at::Tensor A, at::Tensor B) {\n",
        "  TORCH_CHECK(A.is_cuda(), \"A must be a CUDA tensor\");\n",
        "  TORCH_CHECK(B.is_cuda(), \"B must be a CUDA tensor\");\n",
        "  TORCH_CHECK(A.dim() == 2, \"A must be a 2D tensor\");\n",
        "  TORCH_CHECK(B.dim() == 2, \"B must be a 2D tensor\");\n",
        "  TORCH_CHECK(A.size(0) == A.size(1), \"A must be square\");\n",
        "  TORCH_CHECK(B.size(0) == B.size(1), \"B must be square\");\n",
        "  TORCH_CHECK(A.size(0) == B.size(0), \"A and B must be the same size\");\n",
        "\n",
        "  int N = A.size(0);\n",
        "  auto C = torch::empty_like(A);\n",
        "\n",
        "  // Optimize thread count based on matrix size\n",
        "  const int threadsPerBlock = 256;  // Increased thread count per block\n",
        "  const int numBlocks = N;\n",
        "\n",
        "  triangular_mm_kernel<<<numBlocks, threadsPerBlock>>>(\n",
        "      A.data_ptr<float>(), B.data_ptr<float>(), C.data_ptr<float>(), N);\n",
        "\n",
        "  cudaError_t err = cudaGetLastError();\n",
        "  TORCH_CHECK(err == cudaSuccess, \"CUDA kernel failed: \", cudaGetErrorString(err));\n",
        "  return C;\n",
        "}\n",
        "\n",
        "PYBIND11_MODULE(TORCH_EXTENSION_NAME, m) {\n",
        "  m.def(\"forward\", &forward,\n",
        "        \"Strided efficient triangular matrix multiplication (CUDA)\");\n",
        "}\n",
        "'''\n",
        "\n",
        "with open(\"tmp.cu\", \"w\") as f:\n",
        "  f.write(cu_code)"
      ]
    },
    {
      "cell_type": "code",
      "execution_count": null,
      "metadata": {
        "colab": {
          "base_uri": "https://localhost:8080/"
        },
        "id": "MsJcwAnGEayx",
        "outputId": "b82b4324-75c5-49fc-c0b0-cae3938891a8"
      },
      "outputs": [
        {
          "name": "stderr",
          "output_type": "stream",
          "text": [
            "Using /root/.cache/torch_extensions/py311_cu124 as PyTorch extensions root...\n",
            "Creating extension directory /root/.cache/torch_extensions/py311_cu124/triangular_mm...\n",
            "Detected CUDA files, patching ldflags\n",
            "Emitting ninja build file /root/.cache/torch_extensions/py311_cu124/triangular_mm/build.ninja...\n",
            "/usr/local/lib/python3.11/dist-packages/torch/utils/cpp_extension.py:1964: UserWarning: TORCH_CUDA_ARCH_LIST is not set, all archs for visible cards are included for compilation. \n",
            "If this is not desired, please set os.environ['TORCH_CUDA_ARCH_LIST'].\n",
            "  warnings.warn(\n",
            "Building extension module triangular_mm...\n",
            "Allowing ninja to set a default number of workers... (overridable by setting the environment variable MAX_JOBS=N)\n",
            "Loading extension module triangular_mm...\n"
          ]
        },
        {
          "name": "stdout",
          "output_type": "stream",
          "text": [
            "Time taken: 0.017692044377326965 ms\n",
            "Time taken: 27.793136596679688 ms\n",
            "Speedup: 1570.9397966635026\n",
            "Time taken: 0.26734623312950134 ms\n",
            "Time taken: 29.115659713745117 ms\n",
            "Speedup: 108.90619019734466\n",
            "True\n"
          ]
        }
      ],
      "source": [
        "import torch\n",
        "from torch.utils.cpp_extension import load\n",
        "from triton.testing import do_bench\n",
        "\n",
        "# make sure you have nvcc\n",
        "cuda_fn = load(\n",
        "    name=\"triangular_mm\",\n",
        "    sources=[\"tmp.cu\"],\n",
        "    extra_cuda_cflags=[\"-O3\", \"--use_fast_math\"],\n",
        "    with_cuda=True,\n",
        "    verbose=True,\n",
        ").forward\n",
        "\n",
        "N = 4096\n",
        "\n",
        "def trilmm(a, b): return torch.matmul(a, b).tril()\n",
        "\n",
        "a = torch.randn(N, N, device=\"cuda\")\n",
        "b = torch.randn(N, N, device=\"cuda\")\n",
        "\n",
        "a = torch.tril(a)\n",
        "b = torch.tril(b)\n",
        "\n",
        "do_bench(lambda: cuda_fn(a, b).mean()) # do this once jic we need more warmup\n",
        "\n",
        "# Normal testing\n",
        "time_new = do_bench(lambda: cuda_fn(a, b))\n",
        "print(f\"Time taken: {time_new} ms\")\n",
        "\n",
        "time_old = do_bench(lambda: trilmm(a, b))\n",
        "print(f\"Time taken: {time_old} ms\")\n",
        "\n",
        "print(f\"Speedup: {time_old / time_new}\")\n",
        "\n",
        "# Incease rep and do .mean() in case ^ is only capturing dispatches\n",
        "time_new = do_bench(lambda: cuda_fn(a, b).mean(), rep=10000)\n",
        "print(f\"Time taken: {time_new} ms\")\n",
        "\n",
        "time_old = do_bench(lambda: trilmm(a, b).mean(), rep=10000)\n",
        "print(f\"Time taken: {time_old} ms\")\n",
        "\n",
        "print(f\"Speedup: {time_old / time_new}\") # should still see a drastic speedup\n",
        "\n",
        "print(torch.allclose(cuda_fn(a, b), trilmm(a, b)))\n",
        "\n"
      ]
    },
    {
      "cell_type": "code",
      "execution_count": null,
      "metadata": {
        "id": "cXfnhiSnGpoD"
      },
      "outputs": [],
      "source": []
    }
  ],
  "metadata": {
    "accelerator": "GPU",
    "colab": {
      "gpuType": "T4",
      "provenance": []
    },
    "kernelspec": {
      "display_name": "Python 3",
      "name": "python3"
    },
    "language_info": {
      "name": "python"
    }
  },
  "nbformat": 4,
  "nbformat_minor": 0
}
